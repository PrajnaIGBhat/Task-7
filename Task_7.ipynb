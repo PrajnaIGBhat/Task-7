{
  "nbformat": 4,
  "nbformat_minor": 0,
  "metadata": {
    "colab": {
      "provenance": []
    },
    "kernelspec": {
      "name": "python3",
      "display_name": "Python 3"
    },
    "language_info": {
      "name": "python"
    }
  },
  "cells": [
    {
      "cell_type": "markdown",
      "source": [
        "Create the SQLite database"
      ],
      "metadata": {
        "id": "KlBz85ARZm1b"
      }
    },
    {
      "cell_type": "code",
      "execution_count": 1,
      "metadata": {
        "id": "mn0xh8y7YCk0"
      },
      "outputs": [],
      "source": [
        "import sqlite3\n",
        "\n",
        "# Create or connect to a database file\n",
        "conn = sqlite3.connect('sales_data.db')\n",
        "cursor = conn.cursor()\n",
        "\n",
        "# Create the sales table\n",
        "cursor.execute('''\n",
        "    CREATE TABLE IF NOT EXISTS sales (\n",
        "        id INTEGER PRIMARY KEY,\n",
        "        product TEXT,\n",
        "        quantity INTEGER,\n",
        "        price REAL\n",
        "    )\n",
        "''')\n",
        "\n",
        "# Insert sample data\n",
        "sample_data = [\n",
        "    ('Laptop', 5, 800),\n",
        "    ('Mouse', 10, 25),\n",
        "    ('Keyboard', 7, 45),\n",
        "    ('Monitor', 3, 200),\n",
        "    ('Laptop', 2, 800),\n",
        "    ('Mouse', 4, 25),\n",
        "]\n",
        "\n",
        "cursor.executemany('INSERT INTO sales (product, quantity, price) VALUES (?, ?, ?)', sample_data)\n",
        "conn.commit()\n",
        "conn.close()\n"
      ]
    },
    {
      "cell_type": "markdown",
      "source": [
        "Query the data and load it into pandas"
      ],
      "metadata": {
        "id": "Gd6u582bZODR"
      }
    },
    {
      "cell_type": "code",
      "source": [
        "import sqlite3\n",
        "import pandas as pd\n",
        "\n",
        "# Connect to the database\n",
        "conn = sqlite3.connect('sales_data.db')\n",
        "\n",
        "# Write your SQL query\n",
        "query = \"\"\"\n",
        "SELECT\n",
        "    product,\n",
        "    SUM(quantity) AS total_qty,\n",
        "    SUM(quantity * price) AS revenue\n",
        "FROM sales\n",
        "GROUP BY product\n",
        "\"\"\"\n",
        "\n",
        "# Load query result into pandas\n",
        "df = pd.read_sql_query(query, conn)\n",
        "print(df)  # This prints the table\n"
      ],
      "metadata": {
        "colab": {
          "base_uri": "https://localhost:8080/"
        },
        "id": "PIx0Dmn7YaqB",
        "outputId": "be9b7e1c-7e3e-447c-b814-c11cb21fec5c"
      },
      "execution_count": 2,
      "outputs": [
        {
          "output_type": "stream",
          "name": "stdout",
          "text": [
            "    product  total_qty  revenue\n",
            "0  Keyboard          7    315.0\n",
            "1    Laptop          7   5600.0\n",
            "2   Monitor          3    600.0\n",
            "3     Mouse         14    350.0\n"
          ]
        }
      ]
    },
    {
      "cell_type": "markdown",
      "source": [
        "Plot a basic bar chart"
      ],
      "metadata": {
        "id": "GDZF-S4UZUaW"
      }
    },
    {
      "cell_type": "code",
      "source": [
        "import matplotlib.pyplot as plt\n",
        "\n",
        "# Create a bar chart of revenue per product\n",
        "df.plot(kind='bar', x='product', y='revenue', color='skyblue', legend=False)\n",
        "\n",
        "# Add labels and title\n",
        "plt.title('Revenue by Product')\n",
        "plt.xlabel('Product')\n",
        "plt.ylabel('Revenue')\n",
        "\n",
        "# Show the chart\n",
        "plt.tight_layout()\n",
        "plt.show()\n",
        "\n",
        "# Optional: Save the chart as a PNG image\n",
        "plt.savefig(\"sales_chart.png\")\n"
      ],
      "metadata": {
        "colab": {
          "base_uri": "https://localhost:8080/",
          "height": 504
        },
        "id": "ErnI5k_lZbq3",
        "outputId": "862e68d3-a311-4838-970b-bfe9c70c9ce8"
      },
      "execution_count": 3,
      "outputs": [
        {
          "output_type": "display_data",
          "data": {
            "text/plain": [
              "<Figure size 640x480 with 1 Axes>"
            ],
            "image/png": "[encoded data removed]"
          },
          "metadata": {}
        },
        {
          "output_type": "display_data",
          "data": {
            "text/plain": [
              "<Figure size 640x480 with 0 Axes>"
            ]
          },
          "metadata": {}
        }
      ]
    },
    {
      "cell_type": "markdown",
      "source": [],
      "metadata": {
        "id": "cuaFgVvoZf9H"
      }
    }
  ]
}